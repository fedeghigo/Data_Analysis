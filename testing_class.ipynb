{
 "cells": [
  {
   "cell_type": "code",
   "execution_count": 1,
   "metadata": {},
   "outputs": [],
   "source": [
    "%load_ext autoreload\n",
    "%autoreload 2\n",
    "import pandas as pd \n",
    "import numpy as np \n",
    "from sklearn.model_selection import train_test_split\n",
    "import bayesgauss as bg"
   ]
  },
  {
   "cell_type": "code",
   "execution_count": 6,
   "metadata": {},
   "outputs": [
    {
     "name": "stdout",
     "output_type": "stream",
     "text": [
      "     mean radius  mean texture  mean smoothness  diagnosis\n",
      "0          17.99         10.38          0.11840          0\n",
      "1          20.57         17.77          0.08474          0\n",
      "2          19.69         21.25          0.10960          0\n",
      "3          11.42         20.38          0.14250          0\n",
      "4          20.29         14.34          0.10030          0\n",
      "..           ...           ...              ...        ...\n",
      "564        21.56         22.39          0.11100          0\n",
      "565        20.13         28.25          0.09780          0\n",
      "566        16.60         28.08          0.08455          0\n",
      "567        20.60         29.33          0.11780          0\n",
      "568         7.76         24.54          0.05263          1\n",
      "\n",
      "[569 rows x 4 columns]\n"
     ]
    }
   ],
   "source": [
    "from sklearn.datasets import load_breast_cancer\n",
    "#cancer = load_breast_cancer()\n",
    "data = pd.read_csv(\n",
    "    r'G:\\Il mio Drive\\1Master Data Analytics and data science\\lezioni_MDA\\data analysis\\codice\\dp-export-414127.csv'\n",
    ")\n",
    "print(data)"
   ]
  },
  {
   "cell_type": "code",
   "execution_count": 9,
   "metadata": {},
   "outputs": [],
   "source": [
    "df_train, df_test = train_test_split(data, test_size=0.2, random_state=41)\n",
    "x_train=df_train.iloc[:,:]\n",
    "y_train=df_train.iloc[:,:]\n",
    "x_test=df_test.iloc[:,:]\n",
    "y_test=df_test.iloc[:,:]"
   ]
  },
  {
   "cell_type": "code",
   "execution_count": 10,
   "metadata": {},
   "outputs": [],
   "source": [
    "model = bg.BayesGaussian(df_train,x_train,y_train,x_test,y_test)\n",
    "x_train_1, x_train_0 , y_train_1 ,y_train_0 =model.subset()"
   ]
  },
  {
   "cell_type": "code",
   "execution_count": 11,
   "metadata": {},
   "outputs": [
    {
     "name": "stdout",
     "output_type": "stream",
     "text": [
      "[1.8046161732332102, 4.094013057625239, 0.012734753840167121, 0.0]\n",
      "[3.1052856784534333, 3.73173099579625, 0.012562839192754874, 0.0]\n"
     ]
    }
   ],
   "source": [
    "stdev_x_train_1=model.stdev(x_train_1)\n",
    "stdev_x_train_0=model.stdev(x_train_0)\n",
    "print(stdev_x_train_1)\n",
    "print(stdev_x_train_0)"
   ]
  },
  {
   "cell_type": "code",
   "execution_count": 12,
   "metadata": {},
   "outputs": [
    {
     "name": "stdout",
     "output_type": "stream",
     "text": [
      "[12.15834275618375, 18.01590106007066, 0.09178809187279159, 1.0]\n",
      "[17.245523255813957, 21.459767441860453, 0.10329069767441862, 0.0]\n"
     ]
    }
   ],
   "source": [
    "mean_x_train_1=model.mean(x_train_1)\n",
    "mean_x_train_0=model.mean(x_train_0)\n",
    "print(mean_x_train_1)\n",
    "print(mean_x_train_0)"
   ]
  },
  {
   "cell_type": "code",
   "execution_count": 13,
   "metadata": {},
   "outputs": [
    {
     "name": "stdout",
     "output_type": "stream",
     "text": [
      "           0         0          0\n",
      "0   0.149832  0.036292  21.046655\n",
      "0   0.205413  0.069664  13.839561\n",
      "0   0.211447  0.097367   4.080550\n",
      "0   0.177977  0.095529  30.662027\n",
      "0   0.197771  0.057515   2.229150\n",
      "..       ...       ...        ...\n",
      "0   0.174027  0.037399  27.381079\n",
      "0   0.167917  0.031024  23.202294\n",
      "0   0.157095  0.048225  29.288290\n",
      "0   0.112204  0.097376   3.879840\n",
      "0   0.206274  0.083380  31.141503\n",
      "\n",
      "[282 rows x 3 columns]            0         0          0\n",
      "0   0.100990  0.072655  31.738892\n",
      "0   0.020309  0.035938  25.662133\n",
      "0   0.108897  0.092872  28.430005\n",
      "0   0.105813  0.102908  11.298675\n",
      "0   0.052927  0.030637   0.465457\n",
      "..       ...       ...        ...\n",
      "0   0.078193  0.106896  17.507883\n",
      "0   0.079923  0.096832  30.022318\n",
      "0   0.115981  0.062618  27.651591\n",
      "0   0.085669  0.101166  29.722032\n",
      "0   0.071682  0.011565  16.299468\n",
      "\n",
      "[171 rows x 3 columns]\n"
     ]
    }
   ],
   "source": [
    "likelihood1=model.likelihood_list(x_train_1)\n",
    "likelihood0=model.likelihood_list(x_train_0)   \n",
    "print(likelihood1,likelihood0)  "
   ]
  },
  {
   "cell_type": "code",
   "execution_count": 14,
   "metadata": {},
   "outputs": [
    {
     "data": {
      "text/plain": [
       "0.621978021978022"
      ]
     },
     "execution_count": 14,
     "metadata": {},
     "output_type": "execute_result"
    }
   ],
   "source": [
    "model._calc_class_prior(test_value=1)"
   ]
  },
  {
   "cell_type": "code",
   "execution_count": 15,
   "metadata": {},
   "outputs": [
    {
     "data": {
      "text/plain": [
       "0.378021978021978"
      ]
     },
     "execution_count": 15,
     "metadata": {},
     "output_type": "execute_result"
    }
   ],
   "source": [
    "model._calc_class_prior(test_value=0)"
   ]
  },
  {
   "cell_type": "code",
   "execution_count": 16,
   "metadata": {},
   "outputs": [
    {
     "data": {
      "text/plain": [
       "[1.0,\n",
       " 1.0,\n",
       " 1.0,\n",
       " 1.0,\n",
       " 1.0,\n",
       " 1.0,\n",
       " 1.0,\n",
       " 1.0,\n",
       " 1.0,\n",
       " 1.0,\n",
       " 1.0,\n",
       " 1.0,\n",
       " 1.0,\n",
       " 1.0,\n",
       " 1.0,\n",
       " 1.0,\n",
       " 1.0,\n",
       " 1.0,\n",
       " 1.0,\n",
       " 1.0,\n",
       " 1.0,\n",
       " 1.0,\n",
       " 1.0,\n",
       " 1.0,\n",
       " 1.0,\n",
       " 1.0,\n",
       " 1.0,\n",
       " 1.0,\n",
       " 1.0,\n",
       " 1.0,\n",
       " 1.0,\n",
       " 1.0,\n",
       " 1.0,\n",
       " 1.0,\n",
       " 1.0,\n",
       " 1.0,\n",
       " 1.0,\n",
       " 1.0,\n",
       " 1.0,\n",
       " 1.0,\n",
       " 1.0,\n",
       " 1.0,\n",
       " 1.0,\n",
       " 1.0,\n",
       " 1.0,\n",
       " 1.0,\n",
       " 1.0,\n",
       " 1.0,\n",
       " 1.0,\n",
       " 1.0,\n",
       " 1.0,\n",
       " 1.0,\n",
       " 1.0,\n",
       " 1.0,\n",
       " 1.0,\n",
       " 1.0,\n",
       " 1.0,\n",
       " 1.0,\n",
       " 1.0,\n",
       " 1.0,\n",
       " 1.0,\n",
       " 1.0,\n",
       " 1.0,\n",
       " 1.0,\n",
       " 1.0,\n",
       " 1.0,\n",
       " 1.0,\n",
       " 1.0,\n",
       " 1.0,\n",
       " 1.0,\n",
       " 1.0,\n",
       " 1.0,\n",
       " 1.0,\n",
       " 1.0,\n",
       " 1.0,\n",
       " 1.0,\n",
       " 1.0,\n",
       " 1.0,\n",
       " 1.0,\n",
       " 1.0,\n",
       " 1.0,\n",
       " 1.0,\n",
       " 1.0,\n",
       " 1.0,\n",
       " 1.0,\n",
       " 1.0,\n",
       " 1.0,\n",
       " 1.0,\n",
       " 1.0,\n",
       " 1.0,\n",
       " 1.0,\n",
       " 1.0,\n",
       " 1.0,\n",
       " 1.0,\n",
       " 1.0,\n",
       " 1.0,\n",
       " 1.0,\n",
       " 1.0,\n",
       " 1.0,\n",
       " 1.0,\n",
       " 1.0,\n",
       " 1.0,\n",
       " 1.0,\n",
       " 1.0,\n",
       " 1.0,\n",
       " 1.0,\n",
       " 1.0,\n",
       " 1.0,\n",
       " 1.0,\n",
       " 1.0,\n",
       " 1.0,\n",
       " 1.0,\n",
       " 1.0]"
      ]
     },
     "execution_count": 16,
     "metadata": {},
     "output_type": "execute_result"
    }
   ],
   "source": [
    "model.bayes_classification()"
   ]
  },
  {
   "cell_type": "code",
   "execution_count": 9,
   "metadata": {},
   "outputs": [
    {
     "data": {
      "text/plain": [
       "[3.428636650192551, 4.298580321073201, 0.01384336740226794]"
      ]
     },
     "execution_count": 9,
     "metadata": {},
     "output_type": "execute_result"
    }
   ],
   "source": [
    "std = model.stdev()\n",
    "std"
   ]
  },
  {
   "cell_type": "code",
   "execution_count": 10,
   "metadata": {},
   "outputs": [
    {
     "name": "stdout",
     "output_type": "stream",
     "text": [
      "Mean of the training  x [14.081408791208798, 19.317758241758238, 0.09613632967032962]\n",
      "Std of the training x [3.428636650192551, 4.298580321073201, 0.01384336740226794]\n",
      "Len of the Training 455\n"
     ]
    },
    {
     "data": {
      "text/plain": [
       "(None, None, None)"
      ]
     },
     "execution_count": 10,
     "metadata": {},
     "output_type": "execute_result"
    }
   ],
   "source": [
    "model.summarize_dataset()"
   ]
  },
  {
   "cell_type": "code",
   "execution_count": 11,
   "metadata": {},
   "outputs": [
    {
     "data": {
      "text/plain": [
       "0.24197072451914337"
      ]
     },
     "execution_count": 11,
     "metadata": {},
     "output_type": "execute_result"
    }
   ],
   "source": [
    "model.calculate_probability(1,0,1)"
   ]
  },
  {
   "cell_type": "code",
   "execution_count": 12,
   "metadata": {},
   "outputs": [
    {
     "data": {
      "text/html": [
       "<div>\n",
       "<style scoped>\n",
       "    .dataframe tbody tr th:only-of-type {\n",
       "        vertical-align: middle;\n",
       "    }\n",
       "\n",
       "    .dataframe tbody tr th {\n",
       "        vertical-align: top;\n",
       "    }\n",
       "\n",
       "    .dataframe thead th {\n",
       "        text-align: right;\n",
       "    }\n",
       "</style>\n",
       "<table border=\"1\" class=\"dataframe\">\n",
       "  <thead>\n",
       "    <tr style=\"text-align: right;\">\n",
       "      <th></th>\n",
       "      <th>0</th>\n",
       "      <th>0</th>\n",
       "      <th>0</th>\n",
       "    </tr>\n",
       "  </thead>\n",
       "  <tbody>\n",
       "    <tr>\n",
       "      <th>0</th>\n",
       "      <td>0.116135</td>\n",
       "      <td>0.071464</td>\n",
       "      <td>23.647140</td>\n",
       "    </tr>\n",
       "    <tr>\n",
       "      <th>0</th>\n",
       "      <td>0.078915</td>\n",
       "      <td>0.081437</td>\n",
       "      <td>7.021547</td>\n",
       "    </tr>\n",
       "    <tr>\n",
       "      <th>0</th>\n",
       "      <td>0.114751</td>\n",
       "      <td>0.092350</td>\n",
       "      <td>22.472433</td>\n",
       "    </tr>\n",
       "    <tr>\n",
       "      <th>0</th>\n",
       "      <td>0.043433</td>\n",
       "      <td>0.030131</td>\n",
       "      <td>0.000215</td>\n",
       "    </tr>\n",
       "    <tr>\n",
       "      <th>0</th>\n",
       "      <td>0.106903</td>\n",
       "      <td>0.083126</td>\n",
       "      <td>25.665710</td>\n",
       "    </tr>\n",
       "    <tr>\n",
       "      <th>...</th>\n",
       "      <td>...</td>\n",
       "      <td>...</td>\n",
       "      <td>...</td>\n",
       "    </tr>\n",
       "    <tr>\n",
       "      <th>0</th>\n",
       "      <td>0.103613</td>\n",
       "      <td>0.080252</td>\n",
       "      <td>9.558588</td>\n",
       "    </tr>\n",
       "    <tr>\n",
       "      <th>0</th>\n",
       "      <td>0.106645</td>\n",
       "      <td>0.089558</td>\n",
       "      <td>20.453153</td>\n",
       "    </tr>\n",
       "    <tr>\n",
       "      <th>0</th>\n",
       "      <td>0.114822</td>\n",
       "      <td>0.059180</td>\n",
       "      <td>13.481647</td>\n",
       "    </tr>\n",
       "    <tr>\n",
       "      <th>0</th>\n",
       "      <td>0.114099</td>\n",
       "      <td>0.052640</td>\n",
       "      <td>24.994729</td>\n",
       "    </tr>\n",
       "    <tr>\n",
       "      <th>0</th>\n",
       "      <td>0.105718</td>\n",
       "      <td>0.090717</td>\n",
       "      <td>19.536271</td>\n",
       "    </tr>\n",
       "  </tbody>\n",
       "</table>\n",
       "<p>114 rows × 3 columns</p>\n",
       "</div>"
      ],
      "text/plain": [
       "           0         0          0\n",
       "0   0.116135  0.071464  23.647140\n",
       "0   0.078915  0.081437   7.021547\n",
       "0   0.114751  0.092350  22.472433\n",
       "0   0.043433  0.030131   0.000215\n",
       "0   0.106903  0.083126  25.665710\n",
       "..       ...       ...        ...\n",
       "0   0.103613  0.080252   9.558588\n",
       "0   0.106645  0.089558  20.453153\n",
       "0   0.114822  0.059180  13.481647\n",
       "0   0.114099  0.052640  24.994729\n",
       "0   0.105718  0.090717  19.536271\n",
       "\n",
       "[114 rows x 3 columns]"
      ]
     },
     "execution_count": 12,
     "metadata": {},
     "output_type": "execute_result"
    }
   ],
   "source": [
    "model.likelihood_list()"
   ]
  },
  {
   "cell_type": "code",
   "execution_count": 13,
   "metadata": {},
   "outputs": [
    {
     "data": {
      "text/plain": [
       "0.621978021978022"
      ]
     },
     "execution_count": 13,
     "metadata": {},
     "output_type": "execute_result"
    }
   ],
   "source": [
    "model._calc_class_prior()"
   ]
  },
  {
   "cell_type": "code",
   "execution_count": 14,
   "metadata": {},
   "outputs": [
    {
     "data": {
      "text/plain": [
       "0.0034863819227411307"
      ]
     },
     "execution_count": 14,
     "metadata": {},
     "output_type": "execute_result"
    }
   ],
   "source": [
    "model.calculate_probability(5, mean[0], std[0])"
   ]
  },
  {
   "cell_type": "code",
   "execution_count": 15,
   "metadata": {},
   "outputs": [
    {
     "data": {
      "text/plain": [
       "0    28.661122\n",
       "0     7.214509\n",
       "0    33.963484\n",
       "0     0.000046\n",
       "0    32.711954\n",
       "       ...    \n",
       "0    12.439283\n",
       "0    28.542959\n",
       "0    14.231654\n",
       "0    22.518794\n",
       "0    27.501941\n",
       "Length: 114, dtype: float64"
      ]
     },
     "execution_count": 15,
     "metadata": {},
     "output_type": "execute_result"
    }
   ],
   "source": [
    "model.bayes()"
   ]
  },
  {
   "cell_type": "code",
   "execution_count": 16,
   "metadata": {},
   "outputs": [
    {
     "data": {
      "text/html": [
       "<div>\n",
       "<style scoped>\n",
       "    .dataframe tbody tr th:only-of-type {\n",
       "        vertical-align: middle;\n",
       "    }\n",
       "\n",
       "    .dataframe tbody tr th {\n",
       "        vertical-align: top;\n",
       "    }\n",
       "\n",
       "    .dataframe thead th {\n",
       "        text-align: right;\n",
       "    }\n",
       "</style>\n",
       "<table border=\"1\" class=\"dataframe\">\n",
       "  <thead>\n",
       "    <tr style=\"text-align: right;\">\n",
       "      <th></th>\n",
       "      <th>0</th>\n",
       "      <th>0</th>\n",
       "      <th>0</th>\n",
       "    </tr>\n",
       "  </thead>\n",
       "  <tbody>\n",
       "    <tr>\n",
       "      <th>0</th>\n",
       "      <td>0.116135</td>\n",
       "      <td>0.071464</td>\n",
       "      <td>23.647140</td>\n",
       "    </tr>\n",
       "    <tr>\n",
       "      <th>0</th>\n",
       "      <td>0.078915</td>\n",
       "      <td>0.081437</td>\n",
       "      <td>7.021547</td>\n",
       "    </tr>\n",
       "    <tr>\n",
       "      <th>0</th>\n",
       "      <td>0.114751</td>\n",
       "      <td>0.092350</td>\n",
       "      <td>22.472433</td>\n",
       "    </tr>\n",
       "    <tr>\n",
       "      <th>0</th>\n",
       "      <td>0.043433</td>\n",
       "      <td>0.030131</td>\n",
       "      <td>0.000215</td>\n",
       "    </tr>\n",
       "    <tr>\n",
       "      <th>0</th>\n",
       "      <td>0.106903</td>\n",
       "      <td>0.083126</td>\n",
       "      <td>25.665710</td>\n",
       "    </tr>\n",
       "    <tr>\n",
       "      <th>...</th>\n",
       "      <td>...</td>\n",
       "      <td>...</td>\n",
       "      <td>...</td>\n",
       "    </tr>\n",
       "    <tr>\n",
       "      <th>0</th>\n",
       "      <td>0.103613</td>\n",
       "      <td>0.080252</td>\n",
       "      <td>9.558588</td>\n",
       "    </tr>\n",
       "    <tr>\n",
       "      <th>0</th>\n",
       "      <td>0.106645</td>\n",
       "      <td>0.089558</td>\n",
       "      <td>20.453153</td>\n",
       "    </tr>\n",
       "    <tr>\n",
       "      <th>0</th>\n",
       "      <td>0.114822</td>\n",
       "      <td>0.059180</td>\n",
       "      <td>13.481647</td>\n",
       "    </tr>\n",
       "    <tr>\n",
       "      <th>0</th>\n",
       "      <td>0.114099</td>\n",
       "      <td>0.052640</td>\n",
       "      <td>24.994729</td>\n",
       "    </tr>\n",
       "    <tr>\n",
       "      <th>0</th>\n",
       "      <td>0.105718</td>\n",
       "      <td>0.090717</td>\n",
       "      <td>19.536271</td>\n",
       "    </tr>\n",
       "  </tbody>\n",
       "</table>\n",
       "<p>114 rows × 3 columns</p>\n",
       "</div>"
      ],
      "text/plain": [
       "           0         0          0\n",
       "0   0.116135  0.071464  23.647140\n",
       "0   0.078915  0.081437   7.021547\n",
       "0   0.114751  0.092350  22.472433\n",
       "0   0.043433  0.030131   0.000215\n",
       "0   0.106903  0.083126  25.665710\n",
       "..       ...       ...        ...\n",
       "0   0.103613  0.080252   9.558588\n",
       "0   0.106645  0.089558  20.453153\n",
       "0   0.114822  0.059180  13.481647\n",
       "0   0.114099  0.052640  24.994729\n",
       "0   0.105718  0.090717  19.536271\n",
       "\n",
       "[114 rows x 3 columns]"
      ]
     },
     "execution_count": 16,
     "metadata": {},
     "output_type": "execute_result"
    }
   ],
   "source": [
    "model.likelihood_list(columns=0)"
   ]
  },
  {
   "cell_type": "code",
   "execution_count": 17,
   "metadata": {},
   "outputs": [
    {
     "data": {
      "text/html": [
       "<div>\n",
       "<style scoped>\n",
       "    .dataframe tbody tr th:only-of-type {\n",
       "        vertical-align: middle;\n",
       "    }\n",
       "\n",
       "    .dataframe tbody tr th {\n",
       "        vertical-align: top;\n",
       "    }\n",
       "\n",
       "    .dataframe thead th {\n",
       "        text-align: right;\n",
       "    }\n",
       "</style>\n",
       "<table border=\"1\" class=\"dataframe\">\n",
       "  <thead>\n",
       "    <tr style=\"text-align: right;\">\n",
       "      <th></th>\n",
       "      <th>0</th>\n",
       "      <th>0</th>\n",
       "      <th>0</th>\n",
       "    </tr>\n",
       "  </thead>\n",
       "  <tbody>\n",
       "    <tr>\n",
       "      <th>0</th>\n",
       "      <td>0.116135</td>\n",
       "      <td>0.071464</td>\n",
       "      <td>23.647140</td>\n",
       "    </tr>\n",
       "    <tr>\n",
       "      <th>0</th>\n",
       "      <td>0.078915</td>\n",
       "      <td>0.081437</td>\n",
       "      <td>7.021547</td>\n",
       "    </tr>\n",
       "    <tr>\n",
       "      <th>0</th>\n",
       "      <td>0.114751</td>\n",
       "      <td>0.092350</td>\n",
       "      <td>22.472433</td>\n",
       "    </tr>\n",
       "    <tr>\n",
       "      <th>0</th>\n",
       "      <td>0.043433</td>\n",
       "      <td>0.030131</td>\n",
       "      <td>0.000215</td>\n",
       "    </tr>\n",
       "    <tr>\n",
       "      <th>0</th>\n",
       "      <td>0.106903</td>\n",
       "      <td>0.083126</td>\n",
       "      <td>25.665710</td>\n",
       "    </tr>\n",
       "    <tr>\n",
       "      <th>...</th>\n",
       "      <td>...</td>\n",
       "      <td>...</td>\n",
       "      <td>...</td>\n",
       "    </tr>\n",
       "    <tr>\n",
       "      <th>0</th>\n",
       "      <td>0.103613</td>\n",
       "      <td>0.080252</td>\n",
       "      <td>9.558588</td>\n",
       "    </tr>\n",
       "    <tr>\n",
       "      <th>0</th>\n",
       "      <td>0.106645</td>\n",
       "      <td>0.089558</td>\n",
       "      <td>20.453153</td>\n",
       "    </tr>\n",
       "    <tr>\n",
       "      <th>0</th>\n",
       "      <td>0.114822</td>\n",
       "      <td>0.059180</td>\n",
       "      <td>13.481647</td>\n",
       "    </tr>\n",
       "    <tr>\n",
       "      <th>0</th>\n",
       "      <td>0.114099</td>\n",
       "      <td>0.052640</td>\n",
       "      <td>24.994729</td>\n",
       "    </tr>\n",
       "    <tr>\n",
       "      <th>0</th>\n",
       "      <td>0.105718</td>\n",
       "      <td>0.090717</td>\n",
       "      <td>19.536271</td>\n",
       "    </tr>\n",
       "  </tbody>\n",
       "</table>\n",
       "<p>114 rows × 3 columns</p>\n",
       "</div>"
      ],
      "text/plain": [
       "           0         0          0\n",
       "0   0.116135  0.071464  23.647140\n",
       "0   0.078915  0.081437   7.021547\n",
       "0   0.114751  0.092350  22.472433\n",
       "0   0.043433  0.030131   0.000215\n",
       "0   0.106903  0.083126  25.665710\n",
       "..       ...       ...        ...\n",
       "0   0.103613  0.080252   9.558588\n",
       "0   0.106645  0.089558  20.453153\n",
       "0   0.114822  0.059180  13.481647\n",
       "0   0.114099  0.052640  24.994729\n",
       "0   0.105718  0.090717  19.536271\n",
       "\n",
       "[114 rows x 3 columns]"
      ]
     },
     "execution_count": 17,
     "metadata": {},
     "output_type": "execute_result"
    }
   ],
   "source": [
    "model.likelihood_list()"
   ]
  },
  {
   "cell_type": "code",
   "execution_count": 19,
   "metadata": {},
   "outputs": [
    {
     "data": {
      "text/html": [
       "<div>\n",
       "<style scoped>\n",
       "    .dataframe tbody tr th:only-of-type {\n",
       "        vertical-align: middle;\n",
       "    }\n",
       "\n",
       "    .dataframe tbody tr th {\n",
       "        vertical-align: top;\n",
       "    }\n",
       "\n",
       "    .dataframe thead th {\n",
       "        text-align: right;\n",
       "    }\n",
       "</style>\n",
       "<table border=\"1\" class=\"dataframe\">\n",
       "  <thead>\n",
       "    <tr style=\"text-align: right;\">\n",
       "      <th></th>\n",
       "      <th>0</th>\n",
       "      <th>0</th>\n",
       "      <th>0</th>\n",
       "    </tr>\n",
       "  </thead>\n",
       "  <tbody>\n",
       "    <tr>\n",
       "      <th>0</th>\n",
       "      <td>0.116135</td>\n",
       "      <td>0.071464</td>\n",
       "      <td>23.647140</td>\n",
       "    </tr>\n",
       "    <tr>\n",
       "      <th>0</th>\n",
       "      <td>0.078915</td>\n",
       "      <td>0.081437</td>\n",
       "      <td>7.021547</td>\n",
       "    </tr>\n",
       "    <tr>\n",
       "      <th>0</th>\n",
       "      <td>0.114751</td>\n",
       "      <td>0.092350</td>\n",
       "      <td>22.472433</td>\n",
       "    </tr>\n",
       "    <tr>\n",
       "      <th>0</th>\n",
       "      <td>0.043433</td>\n",
       "      <td>0.030131</td>\n",
       "      <td>0.000215</td>\n",
       "    </tr>\n",
       "    <tr>\n",
       "      <th>0</th>\n",
       "      <td>0.106903</td>\n",
       "      <td>0.083126</td>\n",
       "      <td>25.665710</td>\n",
       "    </tr>\n",
       "    <tr>\n",
       "      <th>...</th>\n",
       "      <td>...</td>\n",
       "      <td>...</td>\n",
       "      <td>...</td>\n",
       "    </tr>\n",
       "    <tr>\n",
       "      <th>0</th>\n",
       "      <td>0.103613</td>\n",
       "      <td>0.080252</td>\n",
       "      <td>9.558588</td>\n",
       "    </tr>\n",
       "    <tr>\n",
       "      <th>0</th>\n",
       "      <td>0.106645</td>\n",
       "      <td>0.089558</td>\n",
       "      <td>20.453153</td>\n",
       "    </tr>\n",
       "    <tr>\n",
       "      <th>0</th>\n",
       "      <td>0.114822</td>\n",
       "      <td>0.059180</td>\n",
       "      <td>13.481647</td>\n",
       "    </tr>\n",
       "    <tr>\n",
       "      <th>0</th>\n",
       "      <td>0.114099</td>\n",
       "      <td>0.052640</td>\n",
       "      <td>24.994729</td>\n",
       "    </tr>\n",
       "    <tr>\n",
       "      <th>0</th>\n",
       "      <td>0.105718</td>\n",
       "      <td>0.090717</td>\n",
       "      <td>19.536271</td>\n",
       "    </tr>\n",
       "  </tbody>\n",
       "</table>\n",
       "<p>114 rows × 3 columns</p>\n",
       "</div>"
      ],
      "text/plain": [
       "           0         0          0\n",
       "0   0.116135  0.071464  23.647140\n",
       "0   0.078915  0.081437   7.021547\n",
       "0   0.114751  0.092350  22.472433\n",
       "0   0.043433  0.030131   0.000215\n",
       "0   0.106903  0.083126  25.665710\n",
       "..       ...       ...        ...\n",
       "0   0.103613  0.080252   9.558588\n",
       "0   0.106645  0.089558  20.453153\n",
       "0   0.114822  0.059180  13.481647\n",
       "0   0.114099  0.052640  24.994729\n",
       "0   0.105718  0.090717  19.536271\n",
       "\n",
       "[114 rows x 3 columns]"
      ]
     },
     "execution_count": 19,
     "metadata": {},
     "output_type": "execute_result"
    }
   ],
   "source": [
    "model.likelihood_list()"
   ]
  },
  {
   "cell_type": "code",
   "execution_count": 36,
   "metadata": {},
   "outputs": [
    {
     "data": {
      "text/plain": [
       "0    19.625735\n",
       "0     4.512480\n",
       "0    23.814539\n",
       "0     0.000028\n",
       "0    22.807824\n",
       "       ...    \n",
       "0     7.948058\n",
       "0    19.534623\n",
       "0     9.160996\n",
       "0    15.012289\n",
       "0    18.736010\n",
       "Length: 114, dtype: float64"
      ]
     },
     "execution_count": 36,
     "metadata": {},
     "output_type": "execute_result"
    }
   ],
   "source": [
    "likelihood=model.likelihood_computed.prod(axis=1)*100\n",
    "likelihood"
   ]
  },
  {
   "cell_type": "code",
   "execution_count": 23,
   "metadata": {},
   "outputs": [
    {
     "data": {
      "text/plain": [
       "0    7.418959\n",
       "0    1.705817\n",
       "0    9.002419\n",
       "0    0.000011\n",
       "0    8.621859\n",
       "       ...   \n",
       "0    3.004541\n",
       "0    7.384517\n",
       "0    3.463058\n",
       "0    5.674975\n",
       "0    7.082624\n",
       "Length: 114, dtype: float64"
      ]
     },
     "execution_count": 23,
     "metadata": {},
     "output_type": "execute_result"
    }
   ],
   "source": [
    "model.class_priors*model.likelihood_computed.prod(axis=1)[0]*100"
   ]
  },
  {
   "cell_type": "code",
   "execution_count": 37,
   "metadata": {},
   "outputs": [
    {
     "data": {
      "text/plain": [
       "0    0.803743\n",
       "0    0.954875\n",
       "0    0.761855\n",
       "0    1.000000\n",
       "0    0.771922\n",
       "       ...   \n",
       "0    0.920519\n",
       "0    0.804654\n",
       "0    0.908390\n",
       "0    0.849877\n",
       "0    0.812640\n",
       "Length: 114, dtype: float64"
      ]
     },
     "execution_count": 37,
     "metadata": {},
     "output_type": "execute_result"
    }
   ],
   "source": [
    "1-model.likelihood_computed.prod(axis=1)"
   ]
  },
  {
   "cell_type": "code",
   "execution_count": 18,
   "metadata": {},
   "outputs": [
    {
     "data": {
      "text/plain": [
       "0    17.419481\n",
       "0     4.384790\n",
       "0    20.642117\n",
       "0     0.000028\n",
       "0    19.881470\n",
       "       ...    \n",
       "0     7.560271\n",
       "0    17.347664\n",
       "0     8.649627\n",
       "0    13.686334\n",
       "0    16.714961\n",
       "Length: 114, dtype: float64"
      ]
     },
     "execution_count": 18,
     "metadata": {},
     "output_type": "execute_result"
    }
   ],
   "source": [
    "model.bayes()"
   ]
  }
 ],
 "metadata": {
  "interpreter": {
   "hash": "064f956f676adf1e29d8a10118fa341aa68291a8d6450ed3b446dec71a8429a2"
  },
  "kernelspec": {
   "display_name": "Python 3.8.8 ('base')",
   "language": "python",
   "name": "python3"
  },
  "language_info": {
   "codemirror_mode": {
    "name": "ipython",
    "version": 3
   },
   "file_extension": ".py",
   "mimetype": "text/x-python",
   "name": "python",
   "nbconvert_exporter": "python",
   "pygments_lexer": "ipython3",
   "version": "3.8.8"
  },
  "orig_nbformat": 4
 },
 "nbformat": 4,
 "nbformat_minor": 2
}
