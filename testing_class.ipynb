{
 "cells": [
  {
   "cell_type": "code",
   "execution_count": 182,
   "metadata": {},
   "outputs": [
    {
     "name": "stdout",
     "output_type": "stream",
     "text": [
      "The autoreload extension is already loaded. To reload it, use:\n",
      "  %reload_ext autoreload\n"
     ]
    }
   ],
   "source": [
    "%load_ext autoreload\n",
    "%autoreload 2\n",
    "import pandas as pd \n",
    "import numpy as np \n",
    "from sklearn.model_selection import train_test_split\n",
    "import bayesgauss as bg"
   ]
  },
  {
   "cell_type": "code",
   "execution_count": 183,
   "metadata": {},
   "outputs": [
    {
     "name": "stdout",
     "output_type": "stream",
     "text": [
      "     mean radius  mean texture  mean smoothness  diagnosis\n",
      "0          17.99         10.38          0.11840          0\n",
      "1          20.57         17.77          0.08474          0\n",
      "2          19.69         21.25          0.10960          0\n",
      "3          11.42         20.38          0.14250          0\n",
      "4          20.29         14.34          0.10030          0\n",
      "..           ...           ...              ...        ...\n",
      "564        21.56         22.39          0.11100          0\n",
      "565        20.13         28.25          0.09780          0\n",
      "566        16.60         28.08          0.08455          0\n",
      "567        20.60         29.33          0.11780          0\n",
      "568         7.76         24.54          0.05263          1\n",
      "\n",
      "[569 rows x 4 columns]\n"
     ]
    }
   ],
   "source": [
    "from sklearn.datasets import load_breast_cancer\n",
    "#cancer = load_breast_cancer()\n",
    "data = pd.read_csv(\n",
    "    r'G:\\Il mio Drive\\1Master Data Analytics and data science\\lezioni_MDA\\data analysis\\codice\\dp-export-414127.csv'\n",
    ")\n",
    "print(data)"
   ]
  },
  {
   "cell_type": "code",
   "execution_count": 184,
   "metadata": {},
   "outputs": [],
   "source": [
    "df_train, df_test = train_test_split(data, test_size=0.2, random_state=41)\n",
    "x_train=df_train.iloc[:,:]\n",
    "y_train=df_train.iloc[:,:]\n",
    "x_test=df_test.iloc[:,:]\n",
    "y_test=df_test.iloc[:,:]"
   ]
  },
  {
   "cell_type": "code",
   "execution_count": 185,
   "metadata": {},
   "outputs": [],
   "source": [
    "model = bg.BayesGaussian(df_train,x_train,y_train,x_test,y_test)\n",
    "x_train_1, x_train_0 , y_train_1 ,y_train_0 =model.subset()"
   ]
  },
  {
   "cell_type": "code",
   "execution_count": 186,
   "metadata": {},
   "outputs": [
    {
     "name": "stdout",
     "output_type": "stream",
     "text": [
      "[1.8046161732332102, 4.094013057625239, 0.012734753840167121, 0.0]\n",
      "[3.1052856784534333, 3.73173099579625, 0.012562839192754874, 0.0]\n"
     ]
    }
   ],
   "source": [
    "stdev_x_train_1=model.stdev(x_train_1)\n",
    "stdev_x_train_0=model.stdev(x_train_0)\n",
    "print(stdev_x_train_1)\n",
    "print(stdev_x_train_0)"
   ]
  },
  {
   "cell_type": "code",
   "execution_count": 187,
   "metadata": {},
   "outputs": [
    {
     "name": "stdout",
     "output_type": "stream",
     "text": [
      "[12.15834275618375, 18.01590106007066, 0.09178809187279159, 1.0]\n",
      "[17.245523255813957, 21.459767441860453, 0.10329069767441862, 0.0]\n"
     ]
    }
   ],
   "source": [
    "mean_x_train_1=model.mean(x_train_1)\n",
    "mean_x_train_0=model.mean(x_train_0)\n",
    "print(mean_x_train_1)\n",
    "print(mean_x_train_0)"
   ]
  },
  {
   "cell_type": "code",
   "execution_count": 188,
   "metadata": {},
   "outputs": [
    {
     "name": "stdout",
     "output_type": "stream",
     "text": [
      "           0         0          0\n",
      "0   0.149832  0.036292  21.046655\n",
      "0   0.205413  0.069664  13.839561\n",
      "0   0.211447  0.097367   4.080550\n",
      "0   0.177977  0.095529  30.662027\n",
      "0   0.197771  0.057515   2.229150\n",
      "..       ...       ...        ...\n",
      "0   0.174027  0.037399  27.381079\n",
      "0   0.167917  0.031024  23.202294\n",
      "0   0.157095  0.048225  29.288290\n",
      "0   0.112204  0.097376   3.879840\n",
      "0   0.206274  0.083380  31.141503\n",
      "\n",
      "[282 rows x 3 columns]            0         0          0\n",
      "0   0.100990  0.072655  31.738892\n",
      "0   0.020309  0.035938  25.662133\n",
      "0   0.108897  0.092872  28.430005\n",
      "0   0.105813  0.102908  11.298675\n",
      "0   0.052927  0.030637   0.465457\n",
      "..       ...       ...        ...\n",
      "0   0.078193  0.106896  17.507883\n",
      "0   0.079923  0.096832  30.022318\n",
      "0   0.115981  0.062618  27.651591\n",
      "0   0.085669  0.101166  29.722032\n",
      "0   0.071682  0.011565  16.299468\n",
      "\n",
      "[171 rows x 3 columns]\n"
     ]
    }
   ],
   "source": [
    "likelihood1=model.likelihood_list(x_train_1)\n",
    "likelihood0=model.likelihood_list(x_train_0)   \n",
    "print(likelihood1,likelihood0)  "
   ]
  },
  {
   "cell_type": "code",
   "execution_count": 189,
   "metadata": {},
   "outputs": [
    {
     "data": {
      "text/plain": [
       "0.621978021978022"
      ]
     },
     "execution_count": 189,
     "metadata": {},
     "output_type": "execute_result"
    }
   ],
   "source": [
    "model._calc_class_prior(test_value=1)"
   ]
  },
  {
   "cell_type": "code",
   "execution_count": 190,
   "metadata": {},
   "outputs": [
    {
     "data": {
      "text/plain": [
       "0.378021978021978"
      ]
     },
     "execution_count": 190,
     "metadata": {},
     "output_type": "execute_result"
    }
   ],
   "source": [
    "model._calc_class_prior(test_value=0)"
   ]
  },
  {
   "cell_type": "code",
   "execution_count": 191,
   "metadata": {},
   "outputs": [
    {
     "name": "stdout",
     "output_type": "stream",
     "text": [
      "Mean of the training  x [17.245523255813957, 21.459767441860453, 0.10329069767441862, 0.0]\n",
      "Std of the training x [3.1052856784534333, 3.73173099579625, 0.012562839192754874, 0.0]\n",
      "Len of the Training 455\n"
     ]
    },
    {
     "data": {
      "text/plain": [
       "(None, None, None)"
      ]
     },
     "execution_count": 191,
     "metadata": {},
     "output_type": "execute_result"
    }
   ],
   "source": [
    "model.summarize_dataset()"
   ]
  },
  {
   "cell_type": "code",
   "execution_count": 192,
   "metadata": {},
   "outputs": [
    {
     "data": {
      "text/plain": [
       "0      0.329500\n",
       "1      0.913597\n",
       "2      0.226116\n",
       "3      0.809061\n",
       "4      0.971095\n",
       "         ...   \n",
       "108    0.448405\n",
       "109    0.002836\n",
       "110    0.732121\n",
       "111    0.075768\n",
       "112    0.002189\n",
       "Length: 113, dtype: float64"
      ]
     },
     "execution_count": 192,
     "metadata": {},
     "output_type": "execute_result"
    }
   ],
   "source": [
    "pred=model.bayes_classification()\n",
    "pred=pd.Series(pred)\n",
    "pred"
   ]
  },
  {
   "cell_type": "code",
   "execution_count": 193,
   "metadata": {},
   "outputs": [
    {
     "data": {
      "text/plain": [
       "285    1\n",
       "347    1\n",
       "89     1\n",
       "496    1\n",
       "319    1\n",
       "      ..\n",
       "325    1\n",
       "504    1\n",
       "396    1\n",
       "507    1\n",
       "357    1\n",
       "Name: diagnosis, Length: 114, dtype: int64"
      ]
     },
     "execution_count": 193,
     "metadata": {},
     "output_type": "execute_result"
    }
   ],
   "source": [
    "correct=y_test[\"diagnosis\"]\n",
    "correct"
   ]
  },
  {
   "cell_type": "code",
   "execution_count": 194,
   "metadata": {},
   "outputs": [
    {
     "data": {
      "text/plain": [
       "0      1.0\n",
       "1      1.0\n",
       "2      1.0\n",
       "3      1.0\n",
       "4      1.0\n",
       "      ... \n",
       "108    1.0\n",
       "109    0.0\n",
       "110    1.0\n",
       "111    1.0\n",
       "112    0.0\n",
       "Length: 113, dtype: float64"
      ]
     },
     "execution_count": 194,
     "metadata": {},
     "output_type": "execute_result"
    }
   ],
   "source": [
    "model.normalize_data( threshold=0.02)"
   ]
  },
  {
   "cell_type": "code",
   "execution_count": 195,
   "metadata": {},
   "outputs": [
    {
     "name": "stdout",
     "output_type": "stream",
     "text": [
      "...... Mean .......\n",
      "Train 1 [12.15834275618375, 18.01590106007066, 0.09178809187279159, 1.0]\n",
      "Train 0 [17.245523255813957, 21.459767441860453, 0.10329069767441862, 0.0]\n",
      "...... Std .......\n",
      "Train 1 [1.8046161732332102, 4.094013057625239, 0.012734753840167121, 0.0]\n",
      "Train 0 [3.1052856784534333, 3.73173099579625, 0.012562839192754874, 0.0]\n",
      "...... Prior .......\n",
      "Train 1 0.621978021978022\n",
      "Train 0 0.378021978021978\n",
      "...... Likelihood .......\n",
      "Train 1 0    0.114444\n",
      "0    0.198043\n",
      "0    0.084010\n",
      "0    0.521317\n",
      "0    0.025356\n",
      "       ...   \n",
      "0    0.178206\n",
      "0    0.120871\n",
      "0    0.221886\n",
      "0    0.042391\n",
      "0    0.535610\n",
      "Length: 282, dtype: float64\n",
      "Train 0 0    0.232883\n",
      "0    0.018730\n",
      "0    0.287525\n",
      "0    0.123031\n",
      "0    0.000755\n",
      "       ...   \n",
      "0    0.146340\n",
      "0    0.232347\n",
      "0    0.200819\n",
      "0    0.257593\n",
      "0    0.013513\n",
      "Length: 171, dtype: float64\n",
      "...... Normalization .......\n",
      "Norm: 0.035575987647457175\n",
      "...... Result .......\n",
      "Result: [0.32949982821315493, 0.9135969767848868, 0.22611641217858902, 0.8090613539270407, 0.9710945017639997, 0.9997275404368484, 0.5699282112539216, 0.41824815349029393, 0.9605194896294743, 0.9870001207076363, 0.2263614263923121, 0.5052553686718828, 0.6520152053525452, 0.9923589232314477, 0.9361567924772606, 0.6457413101410067, 0.035256740626529684, 0.7806626522852743, 0.47050864769716977, 0.6434670009624713, 0.687889770914393, 0.6595911422800327, 0.879862609835331, 0.6695842270799454, 0.8250269890312655, 0.5236888781757597, 0.21107890259408885, 0.8418476329010012, 0.5687317812950304, 0.5532655039425236, 0.7821108863835396, 0.8639236935486051, 0.7844902721068383, 0.3055629913052267, 0.7566978227998553, 0.889911258281727, 0.5368250403862979, 0.5482271502890785, 0.7901068121258, 0.5843514668894563, 0.433561239879149, 0.48471445064799606, 0.734009130489993, 0.4942324954684684, 0.4934350115568511, 0.33042988731446005, 0.11786174659844739, 0.9792394585438632, 0.8392366207596472, 0.3159319092159483, 0.944080697553237, 0.6646954463992029, 0.47937554784264375, 0.6475938413945488, 0.5085374945053414, 0.40456560088071136, 0.36847481755619466, 0.5987139955045095, 0.43910210779584136, 0.6108216701834411, 0.5595149474588349, 0.9243119728840004, 0.36237805600061485, 0.7420970068971102, 0.8935119547474853, 0.2298583153429463, 0.6817991167018809, 0.9318394447626227, 0.7298299110141461, 0.7729904758297578, 0.45900252404267455, 0.7985548858377295, 0.51519595115204, 0.22425612548022367, 0.8665061896231914, 0.7186078551140536, 0.25163497441720056, 0.3694277365006059, 0.28728162871198637, 0.19201491483618863, 0.5149911685850748, 0.6163136739381186, 0.6790504356507122, 0.005490454607333178, 0.7555168138358307, 0.7741503094536305, 0.15707971724040304, 0.25131818073134543, 0.7145572133633202, 0.7068653350080129, 0.5820865232854117, 0.8407897695774695, 0.024003439116027068, 0.7920864984650041, 0.257365252146306, 0.8603197063461404, 0.4942079957352792, 0.9999575154020386, 0.4005741260337774, 0.029138319440804254, 0.7173538148648293, 0.48733402014858873, 0.7421096219530742, 0.849140276762728, 0.41154831650415824, 0.4691903584189964, 0.5652350295929285, 0.8903379841967228, 0.4484053671225253, 0.0028359076431450424, 0.7321206438316165, 0.0757681275893297, 0.002189102194481393]\n",
      "...... Metrics .......\n",
      "Accuracy 0.6371681415929203\n"
     ]
    }
   ],
   "source": [
    "model.summary_bayes_classification(threshold=0.02)"
   ]
  }
 ],
 "metadata": {
  "interpreter": {
   "hash": "064f956f676adf1e29d8a10118fa341aa68291a8d6450ed3b446dec71a8429a2"
  },
  "kernelspec": {
   "display_name": "Python 3.8.8 ('base')",
   "language": "python",
   "name": "python3"
  },
  "language_info": {
   "codemirror_mode": {
    "name": "ipython",
    "version": 3
   },
   "file_extension": ".py",
   "mimetype": "text/x-python",
   "name": "python",
   "nbconvert_exporter": "python",
   "pygments_lexer": "ipython3",
   "version": "3.8.8"
  },
  "orig_nbformat": 4
 },
 "nbformat": 4,
 "nbformat_minor": 2
}
